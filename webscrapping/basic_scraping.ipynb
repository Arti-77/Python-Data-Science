{
 "cells": [
  {
   "cell_type": "code",
   "execution_count": 6,
   "metadata": {},
   "outputs": [],
   "source": [
    "import requests\n",
    "from bs4 import BeautifulSoup\n"
   ]
  },
  {
   "cell_type": "code",
   "execution_count": 7,
   "metadata": {},
   "outputs": [],
   "source": [
    "url = 'https://www.indiatoday.in/top-stories'"
   ]
  },
  {
   "cell_type": "code",
   "execution_count": 8,
   "metadata": {},
   "outputs": [],
   "source": [
    "data = requests.get(url)"
   ]
  },
  {
   "cell_type": "code",
   "execution_count": 9,
   "metadata": {},
   "outputs": [
    {
     "name": "stdout",
     "output_type": "stream",
     "text": [
      "200\n"
     ]
    }
   ],
   "source": [
    "print(data.status_code)\n",
    "#data.text"
   ]
  },
  {
   "cell_type": "code",
   "execution_count": 10,
   "metadata": {},
   "outputs": [],
   "source": [
    "soup = BeautifulSoup(data.text)"
   ]
  },
  {
   "cell_type": "code",
   "execution_count": 13,
   "metadata": {},
   "outputs": [
    {
     "data": {
      "text/plain": [
       "<div class=\"catagory-listing\"><div class=\"pic\"> <img alt=\"\" data-preview-url=\"\" src=\"https://akm-img-a-in.tosshub.com/indiatoday/images/story/202111/sonia-mamata.jpg?iiieDZHFnqI29QGrtNs.cOtXqSMZr.Yh&amp;size=170:96\" title=\"\"/></div><div class=\"detail\"><h2 class=\"\" title=\"Elbowed by TMC, wary Congress braces for multiple fronts in winter session\"><a href=\"/india/story/tmc-congress-mamata-banerjee-sonia-gandhi-braces-for-multiple-fronts-in-winter-session-1880425-2021-11-24\">Elbowed by TMC, wary Congress braces for multiple fronts in winter session</a></h2><p>TMC chief Mamata Banerjee's presence in Delhi is making Congress wary, the\n",
       "grand old party is in no mood to concede opposition space in the Parliament.</p></div></div>"
      ]
     },
     "execution_count": 13,
     "metadata": {},
     "output_type": "execute_result"
    }
   ],
   "source": [
    "soup.find('div',{'class' : 'catagory-listing'})\n"
   ]
  },
  {
   "cell_type": "code",
   "execution_count": 11,
   "metadata": {},
   "outputs": [],
   "source": [
    "soup = BeautifulSoup(data.text)"
   ]
  },
  {
   "cell_type": "code",
   "execution_count": 19,
   "metadata": {},
   "outputs": [
    {
     "data": {
      "text/plain": [
       "<div class=\"catagory-listing\"><div class=\"pic\"> <img alt=\"\" data-preview-url=\"\" src=\"https://akm-img-a-in.tosshub.com/indiatoday/images/story/202111/ezgif-6-536f151bc788_1200x768.jpeg?tm_0Ob_ISA90P8m7AuMqUoLVE19w9dox&amp;size=170:96\" title=\"\"/></div><div class=\"detail\"><h2 class=\"\" title=\"Chennai bodybuilder arrested for assault after ex-girlfriend’s social media post\"><a href=\"/cities/chennai/story/chennai-bodybuilder-arrested-assault-ex-girlfriend-social-media-post-1879974-2021-11-23\">Chennai bodybuilder arrested for assault after ex-girlfriend’s social media post</a></h2><p>R Manikandan, a Chennai gym owner, was arrested after his ex-girlfriend made\n",
       "a social media post accusing him of assaulting her.</p></div></div>"
      ]
     },
     "execution_count": 19,
     "metadata": {},
     "output_type": "execute_result"
    }
   ],
   "source": [
    "soup.find('div', {'class' : 'catagory-listing'})"
   ]
  },
  {
   "cell_type": "code",
   "execution_count": 18,
   "metadata": {},
   "outputs": [
    {
     "name": "stdout",
     "output_type": "stream",
     "text": [
      "Chennai bodybuilder arrested for assault after ex-girlfriend’s social media post\n",
      "R Manikandan, a Chennai gym owner, was arrested after his ex-girlfriend made\n",
      "a social media post accusing him of assaulting her.\n",
      "https://akm-img-a-in.tosshub.com/indiatoday/images/story/202111/ezgif-6-536f151bc788_1200x768.jpeg?tm_0Ob_ISA90P8m7AuMqUoLVE19w9dox&size=170:96\n",
      "\n",
      "Kareena Kapoor Khan doesn't want you to read about her life. Here's why\n",
      "Kareena Kapoor Khan was offered to write a tell-all book based on her life.\n",
      "However, Bebo has rejected the offer. We tell you why.\n",
      "https://akm-img-a-in.tosshub.com/indiatoday/images/story/202111/kareena_kapoor_khan_1200x768.jpeg?gHs5RlbHLRaDfs4seJslrMqQVYTs4TkC&size=170:96\n",
      "\n",
      "Sensex, Nifty end losing streak on boost from metal, energy stocks\n",
      "Benchmark market indices ended higher on Tuesday due to a boost from metal\n",
      "and energy stocks.\n",
      "https://akm-img-a-in.tosshub.com/indiatoday/images/story/202111/stock-market-closing-november-_9_1200x768.png?NlnBMQtiijT89wUBTdmGFE9P1R7pBaqE&size=170:96\n",
      "\n",
      "Galle Test: Rain washes out play on day 3 after West Indies avoid follow-on\n",
      "Galle Test: A stroke-filled 39 off 58 balls by Rahkeem Cornwall and a gritty\n",
      "Joshua Da Silva, coupled with West Indies' first half century partnership of\n",
      "the match between Jason Holder and Kyle Mayers\n",
      "https://akm-img-a-in.tosshub.com/indiatoday/images/story/202111/lakmal_ap_1200x768.jpeg?pwBpSWmi6Ejl7k9mfPl9ZC14GbxLCmZF&size=170:96\n",
      "\n",
      "Leopard roams freely in residential area of Tamil Nadu's Nilgiris | Watch \n",
      "A leopard was found roaming a residential area in Pandalur in Tamil Nadu's\n",
      "Nilgiris district, according to the CCTV footage accessed by the police.\n",
      "https://akm-img-a-in.tosshub.com/indiatoday/images/story/202111/pjimage_37.jpg?RvypgQDN8Tr_8frO82RsRMlbEVYJg.c4&size=170:96\n",
      "\n",
      "Will Paytm’s flop stock market debut fizzle out IPO craze?\n",
      "Paytm's weak stock market debut could dampen the demand for upcoming IPOs of\n",
      "new-age tech firms. Here is all you need to know.\n",
      "https://akm-img-a-in.tosshub.com/indiatoday/images/story/202111/paytm-share-price-impact_1200x768.png?qwSFv9DSs9CTSeYCr_umKjsC_T5CSIaL&size=170:96\n",
      "\n",
      "Kolkata Metro to resume token services from Nov 25\n",
      "Tokens will be back on the Kolkata Metro after nearly 21 months as the\n",
      "services were discontinued last year due to the Covid-19 pandemic\n",
      "restrictions.\n",
      "https://akm-img-a-in.tosshub.com/indiatoday/images/story/202111/Kolkata-metro_token_23112021.png?XGsTRWe2BCUbgzzTbwsDaIrM0fMvCyIb&size=170:96\n",
      "\n",
      "TikTok users draw lines under eyes to follow the viral dark circle trend\n",
      "Long gone are those days when one did everything to hide their tired and\n",
      "puffy eyes with makeup, because netizens are now more keen on embracing the\n",
      "stuff that was once considered ugly.\n",
      "https://akm-img-a-in.tosshub.com/indiatoday/images/story/202111/qww.jpg?To5CGRjoErXTapdas7rMbd9NKCI8UcWA&size=170:96\n",
      "\n",
      "Birthday Boy Naga Chaitanya flaunts his charming smile in first look of Thank You\n",
      "The first look of Thank You was unveiled on the occasion of Naga\n",
      "Chaitanya’s 35th birthday (November 23). The film stars Raashi Khanna as\n",
      "the female lead.\n",
      "https://akm-img-a-in.tosshub.com/indiatoday/images/story/202111/FE3y3GAVQAEJdKE_1200x768.jpeg?1kpHjamkBOzXb5xrq5ZjAsYjrUu4Tlvi&size=170:96\n",
      "\n",
      "Ahmedabad's civic body disconnects 33 illegal drainage lines \n",
      "AMC sprung into action after the Gujarat High Court admitted a PIL in October\n",
      "on the continuing pollution of the Sabarmati river.\n",
      "https://akm-img-a-in.tosshub.com/indiatoday/images/story/202111/Sabarmati.jpg?9NJbC7XJL3m8WlhWDb8TJq47A7on1oUd&size=170:96\n",
      "\n",
      "Amused at BJP's reaction, says Manish Tewari on row over 26/11 excerpt in his book\n",
      "Congress MP Manish Tewari has hit back at the BJP for targeting his party\n",
      "over the 26/11 excerpt from his new book.\n",
      "https://akm-img-a-in.tosshub.com/indiatoday/images/story/202111/manh.jpg?_bB1VZRamr5MEcZLWhqSlDd6CksG4YB3&size=170:96\n",
      "\n",
      "Women ODI rankings: Mithali ranked 3rd among batters, Jhulan 2nd among bowlers\n",
      "India captain Mithali Raj retained No.3 spot among batters while her\n",
      "compatriot Smriti Mandhana remained in the 6th spot with 710 points in the\n",
      "ICC women’s ODI rankings.\n",
      "https://akm-img-a-in.tosshub.com/indiatoday/images/story/202111/Mithali_Raj_Jhulan_Goswami_1200x768.jpeg?k6PXkGJt_L_sVF6qq1wukgiz36tWn136&size=170:96\n",
      "\n"
     ]
    }
   ],
   "source": [
    "for row in soup.find_all('div', {\"class\" : 'catagory-listing'}):\n",
    "    print(row.find('h2').text)\n",
    "    print(row.find('p').text)\n",
    "    print(row.find('img').attrs.get(\"src\"))\n",
    "    print()"
   ]
  },
  {
   "cell_type": "code",
   "execution_count": null,
   "metadata": {},
   "outputs": [],
   "source": []
  },
  {
   "cell_type": "code",
   "execution_count": null,
   "metadata": {},
   "outputs": [],
   "source": []
  },
  {
   "cell_type": "code",
   "execution_count": 11,
   "metadata": {},
   "outputs": [
    {
     "data": {
      "text/plain": [
       "<div class=\"catagory-listing\"><div class=\"pic\"> <img alt=\"\" data-preview-url=\"\" src=\"https://akm-img-a-in.tosshub.com/indiatoday/images/story/202111/sonia-mamata.jpg?iiieDZHFnqI29QGrtNs.cOtXqSMZr.Yh&amp;size=170:96\" title=\"\"/></div><div class=\"detail\"><h2 class=\"\" title=\"Elbowed by TMC, wary Congress braces for multiple fronts in winter session\"><a href=\"/india/story/tmc-congress-mamata-banerjee-sonia-gandhi-braces-for-multiple-fronts-in-winter-session-1880425-2021-11-24\">Elbowed by TMC, wary Congress braces for multiple fronts in winter session</a></h2><p>TMC chief Mamata Banerjee's presence in Delhi is making Congress wary, the\n",
       "grand old party is in no mood to concede opposition space in the Parliament.</p></div></div>"
      ]
     },
     "execution_count": 11,
     "metadata": {},
     "output_type": "execute_result"
    }
   ],
   "source": [
    "soup.find('div',{'class':'catagory-listing'}) #it find and returns the first occrence of tag"
   ]
  },
  {
   "cell_type": "code",
   "execution_count": 12,
   "metadata": {},
   "outputs": [
    {
     "name": "stdout",
     "output_type": "stream",
     "text": [
      "Elbowed by TMC, wary Congress braces for multiple fronts in winter session\n",
      "TMC chief Mamata Banerjee's presence in Delhi is making Congress wary, the\n",
      "grand old party is in no mood to concede opposition space in the Parliament.\n",
      "https://akm-img-a-in.tosshub.com/indiatoday/images/story/202111/sonia-mamata.jpg?iiieDZHFnqI29QGrtNs.cOtXqSMZr.Yh&size=170:96\n",
      "\n",
      "Kanpur Test: Turn from Day 2, no instruction from team management - Curator\n",
      "India vs New Zealand, 1st Test: Kanpur pitch curator Shiv Kumar said on\n",
      "Wednesday that he did not receive any instruction from the Indian team\n",
      "management for a rank-turner for the series opener.\n",
      "https://akm-img-a-in.tosshub.com/indiatoday/images/story/202111/kanpurtestpitch_1200x768.jpeg?PKuQt8HQkaKAnsUHprhHZUTCnhp8gWgV&size=170:96\n",
      "\n",
      "Watch: 13-year-old Faridabad street vendor makes chili potato with extra tadka\n",
      "The video, shared by food blogger Vishal, shows 13-year-old Dipesh making a\n",
      "yummy plate of chili potato. The video is currently trending at 3rd position\n",
      "on YouTube.\n",
      "https://akm-img-a-in.tosshub.com/indiatoday/images/story/202111/ss_(1).jpg?rIiWl5_7J_EhWpaSqiwBzGsJOHP70QdY&size=170:96\n",
      "\n",
      "Sara Ali Khan in white chikankari suit is the epitome of elegance\n",
      "For a day out in Mumbai, Sara Ali Khan opted for yet another exquisite suit\n",
      "set in white. She was also photographed with director Aanand L Rai.\n",
      "https://akm-img-a-in.tosshub.com/indiatoday/images/story/202111/BeFunky-collage_-_2021-11-24T1_8_1200x768.jpeg?2Z._KnSzN98ff0HXZCIqoxpqC9_S058Z&size=170:96\n",
      "\n",
      "UAE, Qatar engage in tussle over handling of Kabul airport in Taliban-ruled Afghanistan\n",
      "A diplomatic tussle has broken out between the UAE and Qatar over management\n",
      "of the Hamid Karzai International Airport in Taliban-ruled Kabul.\n",
      "https://akm-img-a-in.tosshub.com/indiatoday/images/story/202111/Kabul_airport__AP__1200x768.jpeg?ZhtVPjf2s0wbocZOQvPA5qYLMowlFKe7&size=170:96\n",
      "\n",
      "Fact Check: Kiwis welcomed with saffron scarves in Kanpur? This is an old picture \n",
      "Both India and New Zealand are in Kanpur for the first Test scheduled to\n",
      "begin on November 25. A four-year-old picture of New Zealand team players\n",
      "wearing saffron scarves has gone viral.\n",
      "https://akm-img-a-in.tosshub.com/indiatoday/images/story/202111/thumbnail_New_Zealand_cover_0_1200x768.jpeg?HxO1P.IWzpQRxRGmstx0I0BbZvfpxcXm&size=170:96\n",
      "\n",
      "Tovino Thomas has a fanboy moment with Salman Khan. Pic breaks the Internet\n",
      "Tovino Thomas recently met Salman Khan. Sharing their photo, Tovino wrote\n",
      "that he was amused by seeing a superstar like Salman staying grounded.\n",
      "https://akm-img-a-in.tosshub.com/indiatoday/images/story/202111/FE862aQUUAAHl3v_1200x768.jpeg?bzQzFCoX.HyjYG0o04C6Kr76jKkHJgbk&size=170:96\n",
      "\n",
      "Bangladesh T20I captain Mahmudullah retires from Test cricket at 35\n",
      "Bangladesh T20I captain Mahmudullah announced his retirement from Test\n",
      "cricket on Wednesday. He played 50 Tests, scoring 2914 runs and picking up 43\n",
      "wickets.\n",
      "https://akm-img-a-in.tosshub.com/indiatoday/images/story/202111/mahmudullahtest_1200x768.jpeg?lop_WwDNJu26ez0syiMciPLso8BcLTtF&size=170:96\n",
      "\n",
      "Australia’s Barrier Reef erupts in colour as corals spawn\n",
      "Australia's Great Barrier Reef is spawning in an explosion of colour as the\n",
      "World Heritage-listed natural wonder recovers from life-threatening coral\n",
      "bleaching episodes.\n",
      "https://akm-img-a-in.tosshub.com/indiatoday/images/story/202111/pjimage_45.jpg?ImCNEEvy4_R3_fjkV55qltJ5OJ.r25Gu&size=170:96\n",
      "\n",
      "Neha Kakkar locks lips with hubby Rohanpreet in front of Eiffel Tower\n",
      "Neha Kakkar and Rohanpreet Singh are currently spending a romantic vacation\n",
      "in Paris. Neha took to social media to share pictures of herself locking lips\n",
      "with her husband in front of the Eiffel Tower.\n",
      "https://akm-img-a-in.tosshub.com/indiatoday/images/story/202111/259466859_279103380677040_8645_1200x768.jpeg?aIkX.EWVbfZVsNxH3pWIkYBRbLdZR8uh&size=170:96\n",
      "\n",
      "Raj Babbar on chup chup ke passion of the 80s vs khullam khulla pyaar now: Interview\n",
      "Raj Babbar stars in Dil Bekaraar, all set to premiere on Disney+Hotstar on\n",
      "November 26. In an exclusive chat with IndiaToday.in, the actor talked about\n",
      "reviving 80s magic on set and how romance has changed over the years.\n",
      "https://akm-img-a-in.tosshub.com/indiatoday/images/story/202111/raj-babbar-1-1_1200x768.jpeg?wYy1cvHQgvZQ74ZirGXf3gDb.3vX_vEr&size=170:96\n",
      "\n",
      "Indonesia Open: PV SIndhu survives scare in opening round, Kidambi Srikanth progresses\n",
      "Indonesia Open 2021: PV Sindhu, Kidambi Srikanth and Sai Praneeth progressed\n",
      "to the 2nd round of the Super 1000 tournament in Bali with hard-fought wins\n",
      "on Wednesday.\n",
      "https://akm-img-a-in.tosshub.com/indiatoday/images/story/202111/sindhuvstaitokyo2020livestream_1200x768.jpeg?Gw3qyX6sjWA76kfKhJqlVgHfBs_xoney&size=170:96\n",
      "\n"
     ]
    }
   ],
   "source": [
    "#find all returns all the matching tag in a list\n",
    "for row in soup.find_all('div',{'class':'catagory-listing'}):\n",
    "    print(row.find('h2').text)\n",
    "    print(row.find('p').text)\n",
    "    print(row.find('img').attrs.get('src'))\n",
    "    print()\n"
   ]
  },
  {
   "cell_type": "code",
   "execution_count": 3,
   "metadata": {},
   "outputs": [],
   "source": [
    "import requests\n",
    "from bs4 import BeautifulSoup"
   ]
  },
  {
   "cell_type": "code",
   "execution_count": 4,
   "metadata": {},
   "outputs": [],
   "source": [
    "url='https://www.ndtv.com/top-stories'"
   ]
  },
  {
   "cell_type": "code",
   "execution_count": 5,
   "metadata": {},
   "outputs": [],
   "source": [
    "data = requests.get(url)"
   ]
  },
  {
   "cell_type": "code",
   "execution_count": 6,
   "metadata": {},
   "outputs": [
    {
     "name": "stdout",
     "output_type": "stream",
     "text": [
      "200\n"
     ]
    }
   ],
   "source": [
    "print(data.status_code)"
   ]
  },
  {
   "cell_type": "code",
   "execution_count": 7,
   "metadata": {},
   "outputs": [],
   "source": [
    "soup=BeautifulSoup(data.text)"
   ]
  },
  {
   "cell_type": "code",
   "execution_count": 8,
   "metadata": {},
   "outputs": [
    {
     "data": {
      "text/plain": [
       "<div class=\"news_Itm\"><div class=\"news_Itm-img\"><a href=\"https://www.ndtv.com/india-news/for-roads-like-katrina-kaifs-cheeks-remark-bjp-slams-rajasthan-minister-rajendra-singh-gudha-2624503\"><img alt=\"For &quot;Roads Like Katrina Kaif's Cheeks&quot; Remark, BJP Slams Rajasthan Minister\" src=\"https://c.ndtvimg.com/2021-11/s16p2kso_rajendra-singh-gudha_120x90_24_November_21.jpg\" title=\"For &quot;Roads Like Katrina Kaif's Cheeks&quot; Remark, BJP Slams Rajasthan Minister\"/></a></div><div class=\"news_Itm-cont\"><h2 class=\"newsHdng\"><a href=\"https://www.ndtv.com/india-news/for-roads-like-katrina-kaifs-cheeks-remark-bjp-slams-rajasthan-minister-rajendra-singh-gudha-2624503\">For \"Roads Like Katrina Kaif's Cheeks\" Remark, BJP Slams Rajasthan Minister</a></h2><span class=\"posted-by\">\n",
       "\t\t\t\t\t\t\t\t\t\t\t\t\t\t\tEdited by <a href=\"https://www.ndtv.com/topic/sumana-nandy\">Sumana Nandy</a>  | Thursday November 25, 2021, New Delhi                                                        \n",
       "                                                        </span><p class=\"newsCont\">A day after Rajasthan minister Rajendra Gudha faced massive flak over a video of him saying that roads in his constituency should be like the cheeks of Katrina Kaif the BJP - in Opposition in the state - has called for \"strict action\" against him.</p></div></div>"
      ]
     },
     "execution_count": 8,
     "metadata": {},
     "output_type": "execute_result"
    }
   ],
   "source": [
    "soup.find('div',{'class':'news_Itm'})"
   ]
  },
  {
   "cell_type": "code",
   "execution_count": 9,
   "metadata": {},
   "outputs": [],
   "source": [
    "for row in soup.find_all('div',{'class':'news-Itm'}):\n",
    "    print(row.find('h2').text)\n",
    "    print(row.find('p').text)\n",
    "    print(row.find('img').attrs.get('src'))\n",
    "    print()"
   ]
  },
  {
   "cell_type": "code",
   "execution_count": null,
   "metadata": {},
   "outputs": [],
   "source": []
  },
  {
   "cell_type": "code",
   "execution_count": 10,
   "metadata": {},
   "outputs": [
    {
     "name": "stdout",
     "output_type": "stream",
     "text": [
      "For \"Roads Like Katrina Kaif's Cheeks\" Remark, BJP Slams Rajasthan Minister\n",
      "A day after Rajasthan minister Rajendra Gudha faced massive flak over a video of him saying that roads in his constituency should be like the cheeks of Katrina Kaif the BJP - in Opposition in the state - has called for \"strict action\" against him.\n",
      "\n",
      "France May Announce Covid Booster Shots For All Adults Amid Surge: Report\n",
      "France is set to announce that COVID-19 booster shots will be made available to all adults, along with stricter rules on wearing face masks and health pass checks to curb a new wave of infections, two parliamentary sources confirmed to Reuters.\n",
      "\n",
      "PM Modi To Start Campaigning For Uttarakhand Polls In December First Week: Minister\n",
      "Ahead of the Uttarakhand Assembly elections, Union Minister and State BJP in-charge Pralhad Joshi on Thursday said that Prime Minister Narendra Modi is likely to start campaigning for the polls in the first week of December.\n",
      "\n",
      "5 US Lawmakers To Visit Taiwan On Military-Focused Trip: Report\n",
      "Five members of the U.S. House of Representatives are expected to arrive in Taiwan on Friday for a short trip focused on meetings with the island's defence ministry, Taiwan's official Central News Agency reported on Thursday.\n",
      "\n",
      "Sanjay Singh, Akhilesh Yadav Meeting Was About UP Politics: Arvind Kejriwal\n",
      "After Aam Aadmi Party leader Sanjay Singh met Samajwadi Party chief Akhilesh Yadav in Lucknow, Chief Minister Arvind Kejriwal said on Thursday that their meeting was about Uttar Pradesh politics.\n",
      "\n",
      "\"In View Of What Happened...\": UK Urges Joint Patrols On French Coast\n",
      "Britain on Thursday renewed an offer to send police and border forces to France to carry out joint patrols along the Channel coast after at least 27 migrants drowned in an attempted crossing.\n",
      "\n",
      "3 Children Among Four Dead In Haryana's Yamunagar Scrapyard Fire\n",
      "As many as four people, including three children, were killed after a major fire broke out in a scrapyard in Haryana's Yamunanagar on the intervening night of Wednesday and Thursday.\n",
      "\n",
      "Odisha Constitutes Panel To Resolve Issues With Andhra Pradesh\n",
      "The Odisha government has constituted an eight-member committee headed by the Chief Secretary to deliberate on bilateral outstanding issues of mutual interest between the state and Andhra Pradesh, according to a notification.\n",
      "\n",
      "Amid Tripura Civic Poll Unrest, Home Minister's 'Stable Northeast' Pitch\n",
      "On a day the Supreme Court asked centre to send more paramilitary personnel to Tripura for civic polls and Trinamool Congress alleged rigging, Home Minister Amit Shah asserted that polls have been held peacefully in Northeast for the past few years\n",
      "\n",
      "Mathura Girl Raped In Moving Car, One Arrested: Police\n",
      "A 21-year-old girl was allegedly raped by a man in a moving car while coming back from Agra, police said on Thursday.\n",
      "\n",
      "Jinnah Makes A Cameo At Noida Airport Ceremony, Courtesy Yogi Adityanath\n",
      "The occasion may have been the ground-breaking ceremony for the Noida International Airport but Uttar Pradesh Chief Minister Yogi Adityanath on Thursday was seen landing his latest diatribe against Mohammad Ali Jinnah, the founder of Pakistan.\n",
      "\n",
      "How China-Taiwan Issue Resulted In Riots, Looting In This Island Nation\n",
      "Angry riots that left buildings burning in the Solomon Islands capital on Thursday are the latest flare-up in two decades of tensions in the Pacific nation that have often ensnared Chinese businesses.\n",
      "\n",
      "Time Has Come To Invest In Northeast, Says Amit Shah\n",
      "Union Home Minister Amit Shah on Thursday asked industries to invest in the Northeast and said the Narendra Modi government has created a conducive environment for the industrial growth of the region.\n",
      "\n",
      "US To Sell 32 Million Barrels Of Crude From Four Sites As Part Of Strategic Sale\n",
      "The United States will sell 32 million barrels of crude from four Strategic Petroleum Reserve (SPR) sites to be delivered between late-December and April 2022, the Department of Energy (DOE) said as it auctions oil to try to lower global prices.\n",
      "\n",
      "PM's Farmer Outreach, Focus On West UP As He Inaugurates Noida Airport\n",
      "With just months to go for the 2022 Uttar Pradesh Assembly election, Prime Minister Narendra Modi reached out to farmers and voters in the western part of the state today, as he laid the foundation stone for the Noida International Airport.\n",
      "\n"
     ]
    }
   ],
   "source": [
    "for news in soup.find_all('div',{'class':'news_Itm'}):\n",
    "    if not 'adBg' in news.attrs.get(\"class\"):\n",
    "        print(news.find('h2').text)\n",
    "        print(news.find('p').text)\n",
    "        print()"
   ]
  }
 ],
 "metadata": {
  "interpreter": {
   "hash": "e922dd073470bdcc017ae3abd31d6491d6ed7bf31c1d559806e5511bfea88b81"
  },
  "kernelspec": {
   "display_name": "Python 3.9.7 64-bit",
   "language": "python",
   "name": "python3"
  },
  "language_info": {
   "codemirror_mode": {
    "name": "ipython",
    "version": 3
   },
   "file_extension": ".py",
   "mimetype": "text/x-python",
   "name": "python",
   "nbconvert_exporter": "python",
   "pygments_lexer": "ipython3",
   "version": "3.9.7"
  },
  "orig_nbformat": 4
 },
 "nbformat": 4,
 "nbformat_minor": 2
}
